{
 "metadata": {
  "name": ""
 },
 "nbformat": 3,
 "nbformat_minor": 0,
 "worksheets": [
  {
   "cells": [
    {
     "cell_type": "heading",
     "level": 1,
     "metadata": {},
     "source": [
      "Working with Missing data in pandas"
     ]
    },
    {
     "cell_type": "code",
     "collapsed": false,
     "input": [
      "import pandas as pd"
     ],
     "language": "python",
     "metadata": {},
     "outputs": [],
     "prompt_number": 1
    },
    {
     "cell_type": "markdown",
     "metadata": {},
     "source": [
      "We begin by defining a pandas dataframe that contains some cells with missing values. Note that pandas, in addition to allowing us to create dataframes from a variety of files, also supports explicit declaration."
     ]
    },
    {
     "cell_type": "code",
     "collapsed": false,
     "input": [
      "incomplete_df = pd.DataFrame({'id': [1,2,3,2,2,3,1,1,1,2,4],\n",
      "                              'type': ['one', 'one', 'two', 'three', 'two', 'three', 'one', 'two', 'one', 'three','one'],\n",
      "                              'amount': [345,928,np.NAN,645,113,942,np.NAN,539,np.NAN,814,np.NAN] \n",
      "                             }, columns=['id','type','amount'])"
     ],
     "language": "python",
     "metadata": {},
     "outputs": [],
     "prompt_number": 2
    },
    {
     "cell_type": "markdown",
     "metadata": {},
     "source": [
      "Column 'amount' is the only one with missing values."
     ]
    },
    {
     "cell_type": "code",
     "collapsed": false,
     "input": [
      "incomplete_df"
     ],
     "language": "python",
     "metadata": {},
     "outputs": [
      {
       "html": [
        "<div style=\"max-height:1000px;max-width:1500px;overflow:auto;\">\n",
        "<table border=\"1\" class=\"dataframe\">\n",
        "  <thead>\n",
        "    <tr style=\"text-align: right;\">\n",
        "      <th></th>\n",
        "      <th>id</th>\n",
        "      <th>type</th>\n",
        "      <th>amount</th>\n",
        "    </tr>\n",
        "  </thead>\n",
        "  <tbody>\n",
        "    <tr>\n",
        "      <th>0 </th>\n",
        "      <td> 1</td>\n",
        "      <td>   one</td>\n",
        "      <td> 345</td>\n",
        "    </tr>\n",
        "    <tr>\n",
        "      <th>1 </th>\n",
        "      <td> 2</td>\n",
        "      <td>   one</td>\n",
        "      <td> 928</td>\n",
        "    </tr>\n",
        "    <tr>\n",
        "      <th>2 </th>\n",
        "      <td> 3</td>\n",
        "      <td>   two</td>\n",
        "      <td> NaN</td>\n",
        "    </tr>\n",
        "    <tr>\n",
        "      <th>3 </th>\n",
        "      <td> 2</td>\n",
        "      <td> three</td>\n",
        "      <td> 645</td>\n",
        "    </tr>\n",
        "    <tr>\n",
        "      <th>4 </th>\n",
        "      <td> 2</td>\n",
        "      <td>   two</td>\n",
        "      <td> 113</td>\n",
        "    </tr>\n",
        "    <tr>\n",
        "      <th>5 </th>\n",
        "      <td> 3</td>\n",
        "      <td> three</td>\n",
        "      <td> 942</td>\n",
        "    </tr>\n",
        "    <tr>\n",
        "      <th>6 </th>\n",
        "      <td> 1</td>\n",
        "      <td>   one</td>\n",
        "      <td> NaN</td>\n",
        "    </tr>\n",
        "    <tr>\n",
        "      <th>7 </th>\n",
        "      <td> 1</td>\n",
        "      <td>   two</td>\n",
        "      <td> 539</td>\n",
        "    </tr>\n",
        "    <tr>\n",
        "      <th>8 </th>\n",
        "      <td> 1</td>\n",
        "      <td>   one</td>\n",
        "      <td> NaN</td>\n",
        "    </tr>\n",
        "    <tr>\n",
        "      <th>9 </th>\n",
        "      <td> 2</td>\n",
        "      <td> three</td>\n",
        "      <td> 814</td>\n",
        "    </tr>\n",
        "    <tr>\n",
        "      <th>10</th>\n",
        "      <td> 4</td>\n",
        "      <td>   one</td>\n",
        "      <td> NaN</td>\n",
        "    </tr>\n",
        "  </tbody>\n",
        "</table>\n",
        "<p>11 rows \u00d7 3 columns</p>\n",
        "</div>"
       ],
       "metadata": {},
       "output_type": "pyout",
       "prompt_number": 3,
       "text": [
        "    id   type  amount\n",
        "0    1    one     345\n",
        "1    2    one     928\n",
        "2    3    two     NaN\n",
        "3    2  three     645\n",
        "4    2    two     113\n",
        "5    3  three     942\n",
        "6    1    one     NaN\n",
        "7    1    two     539\n",
        "8    1    one     NaN\n",
        "9    2  three     814\n",
        "10   4    one     NaN\n",
        "\n",
        "[11 rows x 3 columns]"
       ]
      }
     ],
     "prompt_number": 3
    },
    {
     "cell_type": "markdown",
     "metadata": {},
     "source": [
      "Recall that summary statistics and arithmetic with missing data is natively supported by pandas. Let's define two series, both containing some missing values."
     ]
    },
    {
     "cell_type": "code",
     "collapsed": false,
     "input": [
      "A = incomplete_df['amount']\n",
      "B = pd.Series(data=[np.NAN,125,335,345,312,np.NAN,np.NAN,129,551,800,222])"
     ],
     "language": "python",
     "metadata": {},
     "outputs": [],
     "prompt_number": 4
    },
    {
     "cell_type": "code",
     "collapsed": false,
     "input": [
      "print A \n",
      "print '\\n'\n",
      "print B"
     ],
     "language": "python",
     "metadata": {},
     "outputs": [
      {
       "output_type": "stream",
       "stream": "stdout",
       "text": [
        "0     345\n",
        "1     928\n",
        "2     NaN\n",
        "3     645\n",
        "4     113\n",
        "5     942\n",
        "6     NaN\n",
        "7     539\n",
        "8     NaN\n",
        "9     814\n",
        "10    NaN\n",
        "Name: amount, dtype: float64\n",
        "\n",
        "\n",
        "0     NaN\n",
        "1     125\n",
        "2     335\n",
        "3     345\n",
        "4     312\n",
        "5     NaN\n",
        "6     NaN\n",
        "7     129\n",
        "8     551\n",
        "9     800\n",
        "10    222\n",
        "dtype: float64\n"
       ]
      }
     ],
     "prompt_number": 5
    },
    {
     "cell_type": "markdown",
     "metadata": {},
     "source": [
      "The mean is computed normally and missing values are ignored:"
     ]
    },
    {
     "cell_type": "code",
     "collapsed": false,
     "input": [
      "A.mean()"
     ],
     "language": "python",
     "metadata": {},
     "outputs": [
      {
       "metadata": {},
       "output_type": "pyout",
       "prompt_number": 6,
       "text": [
        "618.0"
       ]
      }
     ],
     "prompt_number": 6
    },
    {
     "cell_type": "markdown",
     "metadata": {},
     "source": [
      "Min, Max, STD and Variance all work even when data are missing:"
     ]
    },
    {
     "cell_type": "code",
     "collapsed": false,
     "input": [
      "print B.min()\n",
      "print B.max()\n",
      "print B.std()\n",
      "print B.var()"
     ],
     "language": "python",
     "metadata": {},
     "outputs": [
      {
       "output_type": "stream",
       "stream": "stdout",
       "text": [
        "125.0\n",
        "800.0\n",
        "226.904597636\n",
        "51485.6964286\n"
       ]
      }
     ],
     "prompt_number": 7
    },
    {
     "cell_type": "markdown",
     "metadata": {},
     "source": [
      "We can also perform element-wise arithmetic operations between series with missing data. Note that by definition the result of any operation that involves missing values is NaN."
     ]
    },
    {
     "cell_type": "code",
     "collapsed": false,
     "input": [
      "A+B"
     ],
     "language": "python",
     "metadata": {},
     "outputs": [
      {
       "metadata": {},
       "output_type": "pyout",
       "prompt_number": 8,
       "text": [
        "0      NaN\n",
        "1     1053\n",
        "2      NaN\n",
        "3      990\n",
        "4      425\n",
        "5      NaN\n",
        "6      NaN\n",
        "7      668\n",
        "8      NaN\n",
        "9     1614\n",
        "10     NaN\n",
        "dtype: float64"
       ]
      }
     ],
     "prompt_number": 8
    },
    {
     "cell_type": "heading",
     "level": 3,
     "metadata": {},
     "source": [
      "Filling missing values"
     ]
    },
    {
     "cell_type": "markdown",
     "metadata": {},
     "source": [
      "Recall that pandas has a function that allows you to drop any rows in a dataframe (or elements in a series) that contain a missing value."
     ]
    },
    {
     "cell_type": "code",
     "collapsed": false,
     "input": [
      "A"
     ],
     "language": "python",
     "metadata": {},
     "outputs": [
      {
       "metadata": {},
       "output_type": "pyout",
       "prompt_number": 9,
       "text": [
        "0     345\n",
        "1     928\n",
        "2     NaN\n",
        "3     645\n",
        "4     113\n",
        "5     942\n",
        "6     NaN\n",
        "7     539\n",
        "8     NaN\n",
        "9     814\n",
        "10    NaN\n",
        "Name: amount, dtype: float64"
       ]
      }
     ],
     "prompt_number": 9
    },
    {
     "cell_type": "code",
     "collapsed": false,
     "input": [
      "A.dropna()"
     ],
     "language": "python",
     "metadata": {},
     "outputs": [
      {
       "metadata": {},
       "output_type": "pyout",
       "prompt_number": 10,
       "text": [
        "0    345\n",
        "1    928\n",
        "3    645\n",
        "4    113\n",
        "5    942\n",
        "7    539\n",
        "9    814\n",
        "Name: amount, dtype: float64"
       ]
      }
     ],
     "prompt_number": 10
    },
    {
     "cell_type": "markdown",
     "metadata": {},
     "source": [
      "However, very often you may wish to fill in those missing values rather than simply dropping them. Of course, pandas also has that functionality. For example, we could fill missing values with a scalar number, as shown below."
     ]
    },
    {
     "cell_type": "code",
     "collapsed": false,
     "input": [
      "A.fillna(-1)"
     ],
     "language": "python",
     "metadata": {},
     "outputs": [
      {
       "metadata": {},
       "output_type": "pyout",
       "prompt_number": 11,
       "text": [
        "0     345\n",
        "1     928\n",
        "2      -1\n",
        "3     645\n",
        "4     113\n",
        "5     942\n",
        "6      -1\n",
        "7     539\n",
        "8      -1\n",
        "9     814\n",
        "10     -1\n",
        "Name: amount, dtype: float64"
       ]
      }
     ],
     "prompt_number": 11
    },
    {
     "cell_type": "markdown",
     "metadata": {},
     "source": [
      "That actually works with any data type."
     ]
    },
    {
     "cell_type": "code",
     "collapsed": false,
     "input": [
      "A.fillna('missing data')"
     ],
     "language": "python",
     "metadata": {},
     "outputs": [
      {
       "metadata": {},
       "output_type": "pyout",
       "prompt_number": 12,
       "text": [
        "0              345\n",
        "1              928\n",
        "2     missing data\n",
        "3              645\n",
        "4              113\n",
        "5              942\n",
        "6     missing data\n",
        "7              539\n",
        "8     missing data\n",
        "9              814\n",
        "10    missing data\n",
        "Name: amount, dtype: object"
       ]
      }
     ],
     "prompt_number": 12
    },
    {
     "cell_type": "markdown",
     "metadata": {},
     "source": [
      "As such, we can use this functionality to fill in the gaps with the average value computed across the non-missing values."
     ]
    },
    {
     "cell_type": "code",
     "collapsed": false,
     "input": [
      "A.fillna(A.mean())"
     ],
     "language": "python",
     "metadata": {},
     "outputs": [
      {
       "metadata": {},
       "output_type": "pyout",
       "prompt_number": 13,
       "text": [
        "0     345\n",
        "1     928\n",
        "2     618\n",
        "3     645\n",
        "4     113\n",
        "5     942\n",
        "6     618\n",
        "7     539\n",
        "8     618\n",
        "9     814\n",
        "10    618\n",
        "Name: amount, dtype: float64"
       ]
      }
     ],
     "prompt_number": 13
    },
    {
     "cell_type": "markdown",
     "metadata": {},
     "source": [
      "Even better, if we want to fill in the gaps with mean values of corresponding *id's* (recall our initial dataframe printed below), the following two lines of code perform that seemingly complex task."
     ]
    },
    {
     "cell_type": "code",
     "collapsed": false,
     "input": [
      "incomplete_df"
     ],
     "language": "python",
     "metadata": {},
     "outputs": [
      {
       "html": [
        "<div style=\"max-height:1000px;max-width:1500px;overflow:auto;\">\n",
        "<table border=\"1\" class=\"dataframe\">\n",
        "  <thead>\n",
        "    <tr style=\"text-align: right;\">\n",
        "      <th></th>\n",
        "      <th>id</th>\n",
        "      <th>type</th>\n",
        "      <th>amount</th>\n",
        "    </tr>\n",
        "  </thead>\n",
        "  <tbody>\n",
        "    <tr>\n",
        "      <th>0 </th>\n",
        "      <td> 1</td>\n",
        "      <td>   one</td>\n",
        "      <td> 345</td>\n",
        "    </tr>\n",
        "    <tr>\n",
        "      <th>1 </th>\n",
        "      <td> 2</td>\n",
        "      <td>   one</td>\n",
        "      <td> 928</td>\n",
        "    </tr>\n",
        "    <tr>\n",
        "      <th>2 </th>\n",
        "      <td> 3</td>\n",
        "      <td>   two</td>\n",
        "      <td> NaN</td>\n",
        "    </tr>\n",
        "    <tr>\n",
        "      <th>3 </th>\n",
        "      <td> 2</td>\n",
        "      <td> three</td>\n",
        "      <td> 645</td>\n",
        "    </tr>\n",
        "    <tr>\n",
        "      <th>4 </th>\n",
        "      <td> 2</td>\n",
        "      <td>   two</td>\n",
        "      <td> 113</td>\n",
        "    </tr>\n",
        "    <tr>\n",
        "      <th>5 </th>\n",
        "      <td> 3</td>\n",
        "      <td> three</td>\n",
        "      <td> 942</td>\n",
        "    </tr>\n",
        "    <tr>\n",
        "      <th>6 </th>\n",
        "      <td> 1</td>\n",
        "      <td>   one</td>\n",
        "      <td> NaN</td>\n",
        "    </tr>\n",
        "    <tr>\n",
        "      <th>7 </th>\n",
        "      <td> 1</td>\n",
        "      <td>   two</td>\n",
        "      <td> 539</td>\n",
        "    </tr>\n",
        "    <tr>\n",
        "      <th>8 </th>\n",
        "      <td> 1</td>\n",
        "      <td>   one</td>\n",
        "      <td> NaN</td>\n",
        "    </tr>\n",
        "    <tr>\n",
        "      <th>9 </th>\n",
        "      <td> 2</td>\n",
        "      <td> three</td>\n",
        "      <td> 814</td>\n",
        "    </tr>\n",
        "    <tr>\n",
        "      <th>10</th>\n",
        "      <td> 4</td>\n",
        "      <td>   one</td>\n",
        "      <td> NaN</td>\n",
        "    </tr>\n",
        "  </tbody>\n",
        "</table>\n",
        "<p>11 rows \u00d7 3 columns</p>\n",
        "</div>"
       ],
       "metadata": {},
       "output_type": "pyout",
       "prompt_number": 14,
       "text": [
        "    id   type  amount\n",
        "0    1    one     345\n",
        "1    2    one     928\n",
        "2    3    two     NaN\n",
        "3    2  three     645\n",
        "4    2    two     113\n",
        "5    3  three     942\n",
        "6    1    one     NaN\n",
        "7    1    two     539\n",
        "8    1    one     NaN\n",
        "9    2  three     814\n",
        "10   4    one     NaN\n",
        "\n",
        "[11 rows x 3 columns]"
       ]
      }
     ],
     "prompt_number": 14
    },
    {
     "cell_type": "code",
     "collapsed": false,
     "input": [
      "# Fill in gaps in the 'amount' column with means obtained from corresponding id's in the first column\n",
      "incomplete_df[\"amount\"].fillna(incomplete_df.groupby(\"id\")[\"amount\"].transform(\"mean\"),inplace=True)\n",
      "# If there is no corresponding id, simply use the overall mean\n",
      "incomplete_df[\"amount\"].fillna(incomplete_df[\"amount\"].mean(), inplace=True)\n",
      "incomplete_df"
     ],
     "language": "python",
     "metadata": {},
     "outputs": [
      {
       "html": [
        "<div style=\"max-height:1000px;max-width:1500px;overflow:auto;\">\n",
        "<table border=\"1\" class=\"dataframe\">\n",
        "  <thead>\n",
        "    <tr style=\"text-align: right;\">\n",
        "      <th></th>\n",
        "      <th>id</th>\n",
        "      <th>type</th>\n",
        "      <th>amount</th>\n",
        "    </tr>\n",
        "  </thead>\n",
        "  <tbody>\n",
        "    <tr>\n",
        "      <th>0 </th>\n",
        "      <td> 1</td>\n",
        "      <td>   one</td>\n",
        "      <td> 345.0</td>\n",
        "    </tr>\n",
        "    <tr>\n",
        "      <th>1 </th>\n",
        "      <td> 2</td>\n",
        "      <td>   one</td>\n",
        "      <td> 928.0</td>\n",
        "    </tr>\n",
        "    <tr>\n",
        "      <th>2 </th>\n",
        "      <td> 3</td>\n",
        "      <td>   two</td>\n",
        "      <td> 942.0</td>\n",
        "    </tr>\n",
        "    <tr>\n",
        "      <th>3 </th>\n",
        "      <td> 2</td>\n",
        "      <td> three</td>\n",
        "      <td> 645.0</td>\n",
        "    </tr>\n",
        "    <tr>\n",
        "      <th>4 </th>\n",
        "      <td> 2</td>\n",
        "      <td>   two</td>\n",
        "      <td> 113.0</td>\n",
        "    </tr>\n",
        "    <tr>\n",
        "      <th>5 </th>\n",
        "      <td> 3</td>\n",
        "      <td> three</td>\n",
        "      <td> 942.0</td>\n",
        "    </tr>\n",
        "    <tr>\n",
        "      <th>6 </th>\n",
        "      <td> 1</td>\n",
        "      <td>   one</td>\n",
        "      <td> 442.0</td>\n",
        "    </tr>\n",
        "    <tr>\n",
        "      <th>7 </th>\n",
        "      <td> 1</td>\n",
        "      <td>   two</td>\n",
        "      <td> 539.0</td>\n",
        "    </tr>\n",
        "    <tr>\n",
        "      <th>8 </th>\n",
        "      <td> 1</td>\n",
        "      <td>   one</td>\n",
        "      <td> 442.0</td>\n",
        "    </tr>\n",
        "    <tr>\n",
        "      <th>9 </th>\n",
        "      <td> 2</td>\n",
        "      <td> three</td>\n",
        "      <td> 814.0</td>\n",
        "    </tr>\n",
        "    <tr>\n",
        "      <th>10</th>\n",
        "      <td> 4</td>\n",
        "      <td>   one</td>\n",
        "      <td> 615.2</td>\n",
        "    </tr>\n",
        "  </tbody>\n",
        "</table>\n",
        "<p>11 rows \u00d7 3 columns</p>\n",
        "</div>"
       ],
       "metadata": {},
       "output_type": "pyout",
       "prompt_number": 15,
       "text": [
        "    id   type  amount\n",
        "0    1    one   345.0\n",
        "1    2    one   928.0\n",
        "2    3    two   942.0\n",
        "3    2  three   645.0\n",
        "4    2    two   113.0\n",
        "5    3  three   942.0\n",
        "6    1    one   442.0\n",
        "7    1    two   539.0\n",
        "8    1    one   442.0\n",
        "9    2  three   814.0\n",
        "10   4    one   615.2\n",
        "\n",
        "[11 rows x 3 columns]"
       ]
      }
     ],
     "prompt_number": 15
    },
    {
     "cell_type": "markdown",
     "metadata": {},
     "source": [
      "You can fill values forwards and backwards with the flags *pad* / *ffill* and *bfill* / *backfill*"
     ]
    },
    {
     "cell_type": "code",
     "collapsed": false,
     "input": [
      "print B\n",
      "print '\\n'\n",
      "print B.fillna(method='pad')"
     ],
     "language": "python",
     "metadata": {},
     "outputs": [
      {
       "output_type": "stream",
       "stream": "stdout",
       "text": [
        "0     NaN\n",
        "1     125\n",
        "2     335\n",
        "3     345\n",
        "4     312\n",
        "5     NaN\n",
        "6     NaN\n",
        "7     129\n",
        "8     551\n",
        "9     800\n",
        "10    222\n",
        "dtype: float64\n",
        "\n",
        "\n",
        "0     NaN\n",
        "1     125\n",
        "2     335\n",
        "3     345\n",
        "4     312\n",
        "5     312\n",
        "6     312\n",
        "7     129\n",
        "8     551\n",
        "9     800\n",
        "10    222\n",
        "dtype: float64\n"
       ]
      }
     ],
     "prompt_number": 16
    },
    {
     "cell_type": "markdown",
     "metadata": {},
     "source": [
      "We can set a limit if we only want to replace consecutive gaps."
     ]
    },
    {
     "cell_type": "code",
     "collapsed": false,
     "input": [
      "B.fillna(method='bfill',limit=1)"
     ],
     "language": "python",
     "metadata": {},
     "outputs": [
      {
       "metadata": {},
       "output_type": "pyout",
       "prompt_number": 17,
       "text": [
        "0     125\n",
        "1     125\n",
        "2     335\n",
        "3     345\n",
        "4     312\n",
        "5     NaN\n",
        "6     129\n",
        "7     129\n",
        "8     551\n",
        "9     800\n",
        "10    222\n",
        "dtype: float64"
       ]
      }
     ],
     "prompt_number": 17
    },
    {
     "cell_type": "markdown",
     "metadata": {},
     "source": [
      "There is also a function that does linear interpolation. The keyword *method* gives you access to fancier methods for interpolation, some of which require SciPy."
     ]
    },
    {
     "cell_type": "code",
     "collapsed": false,
     "input": [
      "print B\n",
      "print '\\n'\n",
      "print B.interpolate()"
     ],
     "language": "python",
     "metadata": {},
     "outputs": [
      {
       "output_type": "stream",
       "stream": "stdout",
       "text": [
        "0     NaN\n",
        "1     125\n",
        "2     335\n",
        "3     345\n",
        "4     312\n",
        "5     NaN\n",
        "6     NaN\n",
        "7     129\n",
        "8     551\n",
        "9     800\n",
        "10    222\n",
        "dtype: float64\n",
        "\n",
        "\n",
        "0     NaN\n",
        "1     125\n",
        "2     335\n",
        "3     345\n",
        "4     312\n",
        "5     251\n",
        "6     190\n",
        "7     129\n",
        "8     551\n",
        "9     800\n",
        "10    222\n",
        "dtype: float64\n"
       ]
      }
     ],
     "prompt_number": 18
    },
    {
     "cell_type": "code",
     "collapsed": false,
     "input": [
      "B.interpolate(method='barycentric')"
     ],
     "language": "python",
     "metadata": {},
     "outputs": [
      {
       "metadata": {},
       "output_type": "pyout",
       "prompt_number": 19,
       "text": [
        "0            NaN\n",
        "1     125.000000\n",
        "2     335.000000\n",
        "3     345.000000\n",
        "4     312.000000\n",
        "5     146.563492\n",
        "6      -1.849206\n",
        "7     129.000000\n",
        "8     551.000000\n",
        "9     800.000000\n",
        "10    222.000000\n",
        "dtype: float64"
       ]
      }
     ],
     "prompt_number": 19
    },
    {
     "cell_type": "code",
     "collapsed": false,
     "input": [
      "B.interpolate(method='pchip')"
     ],
     "language": "python",
     "metadata": {},
     "outputs": [
      {
       "metadata": {},
       "output_type": "pyout",
       "prompt_number": 20,
       "text": [
        "0            NaN\n",
        "1     125.000000\n",
        "2     335.000000\n",
        "3     345.000000\n",
        "4     312.000000\n",
        "5     244.525705\n",
        "6     166.429519\n",
        "7     129.000000\n",
        "8     551.000000\n",
        "9     800.000000\n",
        "10    222.000000\n",
        "dtype: float64"
       ]
      }
     ],
     "prompt_number": 20
    },
    {
     "cell_type": "markdown",
     "metadata": {},
     "source": [
      "Below we compare three different methods."
     ]
    },
    {
     "cell_type": "code",
     "collapsed": false,
     "input": [
      "np.random.seed(2)\n",
      "ser = pd.Series(np.arange(1, 10.1, .25)**2 + np.random.randn(37))\n",
      "bad = np.array([4, 13, 14, 15, 16, 17, 18, 20, 29])\n",
      "ser[bad] = np.nan\n",
      "methods = ['linear', 'quadratic', 'cubic']\n",
      "df = pd.DataFrame({m: ser.interpolate(method=m) for m in methods})\n",
      "df.plot()"
     ],
     "language": "python",
     "metadata": {},
     "outputs": [
      {
       "metadata": {},
       "output_type": "pyout",
       "prompt_number": 21,
       "text": [
        "<matplotlib.axes.AxesSubplot at 0xbc0810c>"
       ]
      },
      {
       "metadata": {},
       "output_type": "display_data",
       "png": "[encoded data removed]",
       "text": [
        "<matplotlib.figure.Figure at 0xbc03aac>"
       ]
      }
     ],
     "prompt_number": 21
    }
   ],
   "metadata": {}
  }
 ]
}
