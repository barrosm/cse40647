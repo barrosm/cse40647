{
 "metadata": {
  "name": ""
 },
 "nbformat": 3,
 "nbformat_minor": 0,
 "worksheets": [
  {
   "cells": [
    {
     "cell_type": "heading",
     "level": 2,
     "metadata": {},
     "source": [
      "Assignment 1 Solutions"
     ]
    },
    {
     "cell_type": "code",
     "collapsed": false,
     "input": [
      "import pandas as pd"
     ],
     "language": "python",
     "metadata": {},
     "outputs": [],
     "prompt_number": 2
    },
    {
     "cell_type": "heading",
     "level": 3,
     "metadata": {},
     "source": [
      "1  Iris Dataset"
     ]
    },
    {
     "cell_type": "code",
     "collapsed": false,
     "input": [
      "fileURL = 'http://archive.ics.uci.edu/ml/machine-learning-databases/iris/iris.data'\n",
      "data = pd.read_csv(fileURL, names=['Sepal Length', 'Sepal Width', 'Petal Length', 'Petal Width', 'Name'], header=None)"
     ],
     "language": "python",
     "metadata": {},
     "outputs": [],
     "prompt_number": 3
    },
    {
     "cell_type": "heading",
     "level": 4,
     "metadata": {},
     "source": [
      "1.1  Summary Statistics"
     ]
    },
    {
     "cell_type": "code",
     "collapsed": false,
     "input": [
      "data.head()"
     ],
     "language": "python",
     "metadata": {},
     "outputs": [
      {
       "html": [
        "<div style=\"max-height:1000px;max-width:1500px;overflow:auto;\">\n",
        "<table border=\"1\" class=\"dataframe\">\n",
        "  <thead>\n",
        "    <tr style=\"text-align: right;\">\n",
        "      <th></th>\n",
        "      <th>Sepal Length</th>\n",
        "      <th>Sepal Width</th>\n",
        "      <th>Petal Length</th>\n",
        "      <th>Petal Width</th>\n",
        "      <th>Name</th>\n",
        "    </tr>\n",
        "  </thead>\n",
        "  <tbody>\n",
        "    <tr>\n",
        "      <th>0</th>\n",
        "      <td> 5.1</td>\n",
        "      <td> 3.5</td>\n",
        "      <td> 1.4</td>\n",
        "      <td> 0.2</td>\n",
        "      <td> Iris-setosa</td>\n",
        "    </tr>\n",
        "    <tr>\n",
        "      <th>1</th>\n",
        "      <td> 4.9</td>\n",
        "      <td> 3.0</td>\n",
        "      <td> 1.4</td>\n",
        "      <td> 0.2</td>\n",
        "      <td> Iris-setosa</td>\n",
        "    </tr>\n",
        "    <tr>\n",
        "      <th>2</th>\n",
        "      <td> 4.7</td>\n",
        "      <td> 3.2</td>\n",
        "      <td> 1.3</td>\n",
        "      <td> 0.2</td>\n",
        "      <td> Iris-setosa</td>\n",
        "    </tr>\n",
        "    <tr>\n",
        "      <th>3</th>\n",
        "      <td> 4.6</td>\n",
        "      <td> 3.1</td>\n",
        "      <td> 1.5</td>\n",
        "      <td> 0.2</td>\n",
        "      <td> Iris-setosa</td>\n",
        "    </tr>\n",
        "    <tr>\n",
        "      <th>4</th>\n",
        "      <td> 5.0</td>\n",
        "      <td> 3.6</td>\n",
        "      <td> 1.4</td>\n",
        "      <td> 0.2</td>\n",
        "      <td> Iris-setosa</td>\n",
        "    </tr>\n",
        "  </tbody>\n",
        "</table>\n",
        "<p>5 rows \u00d7 5 columns</p>\n",
        "</div>"
       ],
       "metadata": {},
       "output_type": "pyout",
       "prompt_number": 4,
       "text": [
        "   Sepal Length  Sepal Width  Petal Length  Petal Width         Name\n",
        "0           5.1          3.5           1.4          0.2  Iris-setosa\n",
        "1           4.9          3.0           1.4          0.2  Iris-setosa\n",
        "2           4.7          3.2           1.3          0.2  Iris-setosa\n",
        "3           4.6          3.1           1.5          0.2  Iris-setosa\n",
        "4           5.0          3.6           1.4          0.2  Iris-setosa\n",
        "\n",
        "[5 rows x 5 columns]"
       ]
      }
     ],
     "prompt_number": 4
    },
    {
     "cell_type": "markdown",
     "metadata": {},
     "source": [
      "There are 4 features and 1 class. The features are numeric, while the class is nominal."
     ]
    },
    {
     "cell_type": "code",
     "collapsed": false,
     "input": [
      "data.describe()"
     ],
     "language": "python",
     "metadata": {},
     "outputs": [
      {
       "html": [
        "<div style=\"max-height:1000px;max-width:1500px;overflow:auto;\">\n",
        "<table border=\"1\" class=\"dataframe\">\n",
        "  <thead>\n",
        "    <tr style=\"text-align: right;\">\n",
        "      <th></th>\n",
        "      <th>Sepal Length</th>\n",
        "      <th>Sepal Width</th>\n",
        "      <th>Petal Length</th>\n",
        "      <th>Petal Width</th>\n",
        "    </tr>\n",
        "  </thead>\n",
        "  <tbody>\n",
        "    <tr>\n",
        "      <th>count</th>\n",
        "      <td> 150.000000</td>\n",
        "      <td> 150.000000</td>\n",
        "      <td> 150.000000</td>\n",
        "      <td> 150.000000</td>\n",
        "    </tr>\n",
        "    <tr>\n",
        "      <th>mean</th>\n",
        "      <td>   5.843333</td>\n",
        "      <td>   3.054000</td>\n",
        "      <td>   3.758667</td>\n",
        "      <td>   1.198667</td>\n",
        "    </tr>\n",
        "    <tr>\n",
        "      <th>std</th>\n",
        "      <td>   0.828066</td>\n",
        "      <td>   0.433594</td>\n",
        "      <td>   1.764420</td>\n",
        "      <td>   0.763161</td>\n",
        "    </tr>\n",
        "    <tr>\n",
        "      <th>min</th>\n",
        "      <td>   4.300000</td>\n",
        "      <td>   2.000000</td>\n",
        "      <td>   1.000000</td>\n",
        "      <td>   0.100000</td>\n",
        "    </tr>\n",
        "    <tr>\n",
        "      <th>25%</th>\n",
        "      <td>   5.100000</td>\n",
        "      <td>   2.800000</td>\n",
        "      <td>   1.600000</td>\n",
        "      <td>   0.300000</td>\n",
        "    </tr>\n",
        "    <tr>\n",
        "      <th>50%</th>\n",
        "      <td>   5.800000</td>\n",
        "      <td>   3.000000</td>\n",
        "      <td>   4.350000</td>\n",
        "      <td>   1.300000</td>\n",
        "    </tr>\n",
        "    <tr>\n",
        "      <th>75%</th>\n",
        "      <td>   6.400000</td>\n",
        "      <td>   3.300000</td>\n",
        "      <td>   5.100000</td>\n",
        "      <td>   1.800000</td>\n",
        "    </tr>\n",
        "    <tr>\n",
        "      <th>max</th>\n",
        "      <td>   7.900000</td>\n",
        "      <td>   4.400000</td>\n",
        "      <td>   6.900000</td>\n",
        "      <td>   2.500000</td>\n",
        "    </tr>\n",
        "  </tbody>\n",
        "</table>\n",
        "<p>8 rows \u00d7 4 columns</p>\n",
        "</div>"
       ],
       "metadata": {},
       "output_type": "pyout",
       "prompt_number": 5,
       "text": [
        "       Sepal Length  Sepal Width  Petal Length  Petal Width\n",
        "count    150.000000   150.000000    150.000000   150.000000\n",
        "mean       5.843333     3.054000      3.758667     1.198667\n",
        "std        0.828066     0.433594      1.764420     0.763161\n",
        "min        4.300000     2.000000      1.000000     0.100000\n",
        "25%        5.100000     2.800000      1.600000     0.300000\n",
        "50%        5.800000     3.000000      4.350000     1.300000\n",
        "75%        6.400000     3.300000      5.100000     1.800000\n",
        "max        7.900000     4.400000      6.900000     2.500000\n",
        "\n",
        "[8 rows x 4 columns]"
       ]
      }
     ],
     "prompt_number": 5
    },
    {
     "cell_type": "code",
     "collapsed": false,
     "input": [
      "data[data.columns[0:4]].var()"
     ],
     "language": "python",
     "metadata": {},
     "outputs": [
      {
       "metadata": {},
       "output_type": "pyout",
       "prompt_number": 17,
       "text": [
        "Sepal Length    0.685694\n",
        "Sepal Width     0.188004\n",
        "Petal Length    3.113179\n",
        "Petal Width     0.582414\n",
        "dtype: float64"
       ]
      }
     ],
     "prompt_number": 17
    },
    {
     "cell_type": "code",
     "collapsed": false,
     "input": [
      "data[data.columns[0:4]].max()-data[data.columns[0:4]].dropna().min()"
     ],
     "language": "python",
     "metadata": {},
     "outputs": [
      {
       "metadata": {},
       "output_type": "pyout",
       "prompt_number": 11,
       "text": [
        "Sepal Length    3.6\n",
        "Sepal Width     2.4\n",
        "Petal Length    5.9\n",
        "Petal Width     2.4\n",
        "dtype: float64"
       ]
      }
     ],
     "prompt_number": 11
    },
    {
     "cell_type": "heading",
     "level": 4,
     "metadata": {},
     "source": [
      "1.2 Data Visualization"
     ]
    },
    {
     "cell_type": "code",
     "collapsed": false,
     "input": [
      "hist1 = data.ix[:,0:4].hist(figsize=(8,8))"
     ],
     "language": "python",
     "metadata": {},
     "outputs": [
      {
       "metadata": {},
       "output_type": "display_data",
       "png": "[encoded data removed]",
       "text": [
        "<matplotlib.figure.Figure at 0xadef0cc>"
       ]
      }
     ],
     "prompt_number": 12
    },
    {
     "cell_type": "code",
     "collapsed": false,
     "input": [
      "bp = data.boxplot(grid=False)"
     ],
     "language": "python",
     "metadata": {},
     "outputs": [
      {
       "metadata": {},
       "output_type": "display_data",
       "png": "[encoded data removed]",
       "text": [
        "<matplotlib.figure.Figure at 0xb2a73cc>"
       ]
      }
     ],
     "prompt_number": 13
    },
    {
     "cell_type": "heading",
     "level": 3,
     "metadata": {},
     "source": [
      "2 Pen-based Handwritten Digits Dataset"
     ]
    },
    {
     "cell_type": "code",
     "collapsed": false,
     "input": [
      "file2URL = 'http://archive.ics.uci.edu/ml/machine-learning-databases/pendigits/pendigits.tra'\n",
      "data2 = pd.read_csv(file2URL, header=None)"
     ],
     "language": "python",
     "metadata": {},
     "outputs": [],
     "prompt_number": 14
    },
    {
     "cell_type": "heading",
     "level": 4,
     "metadata": {},
     "source": [
      "1.1  Summary Statistics"
     ]
    },
    {
     "cell_type": "code",
     "collapsed": false,
     "input": [
      "data2.head()"
     ],
     "language": "python",
     "metadata": {},
     "outputs": [
      {
       "html": [
        "<div style=\"max-height:1000px;max-width:1500px;overflow:auto;\">\n",
        "<table border=\"1\" class=\"dataframe\">\n",
        "  <thead>\n",
        "    <tr style=\"text-align: right;\">\n",
        "      <th></th>\n",
        "      <th>0</th>\n",
        "      <th>1</th>\n",
        "      <th>2</th>\n",
        "      <th>3</th>\n",
        "      <th>4</th>\n",
        "      <th>5</th>\n",
        "      <th>6</th>\n",
        "      <th>7</th>\n",
        "      <th>8</th>\n",
        "      <th>9</th>\n",
        "      <th>10</th>\n",
        "      <th>11</th>\n",
        "      <th>12</th>\n",
        "      <th>13</th>\n",
        "      <th>14</th>\n",
        "      <th>15</th>\n",
        "      <th>16</th>\n",
        "    </tr>\n",
        "  </thead>\n",
        "  <tbody>\n",
        "    <tr>\n",
        "      <th>0</th>\n",
        "      <td> 47</td>\n",
        "      <td> 100</td>\n",
        "      <td> 27</td>\n",
        "      <td>  81</td>\n",
        "      <td>  57</td>\n",
        "      <td>  37</td>\n",
        "      <td>  26</td>\n",
        "      <td>   0</td>\n",
        "      <td>  0</td>\n",
        "      <td> 23</td>\n",
        "      <td>  56</td>\n",
        "      <td> 53</td>\n",
        "      <td> 100</td>\n",
        "      <td> 90</td>\n",
        "      <td>  40</td>\n",
        "      <td> 98</td>\n",
        "      <td> 8</td>\n",
        "    </tr>\n",
        "    <tr>\n",
        "      <th>1</th>\n",
        "      <td>  0</td>\n",
        "      <td>  89</td>\n",
        "      <td> 27</td>\n",
        "      <td> 100</td>\n",
        "      <td>  42</td>\n",
        "      <td>  75</td>\n",
        "      <td>  29</td>\n",
        "      <td>  45</td>\n",
        "      <td> 15</td>\n",
        "      <td> 15</td>\n",
        "      <td>  37</td>\n",
        "      <td>  0</td>\n",
        "      <td>  69</td>\n",
        "      <td>  2</td>\n",
        "      <td> 100</td>\n",
        "      <td>  6</td>\n",
        "      <td> 2</td>\n",
        "    </tr>\n",
        "    <tr>\n",
        "      <th>2</th>\n",
        "      <td>  0</td>\n",
        "      <td>  57</td>\n",
        "      <td> 31</td>\n",
        "      <td>  68</td>\n",
        "      <td>  72</td>\n",
        "      <td>  90</td>\n",
        "      <td> 100</td>\n",
        "      <td> 100</td>\n",
        "      <td> 76</td>\n",
        "      <td> 75</td>\n",
        "      <td>  50</td>\n",
        "      <td> 51</td>\n",
        "      <td>  28</td>\n",
        "      <td> 25</td>\n",
        "      <td>  16</td>\n",
        "      <td>  0</td>\n",
        "      <td> 1</td>\n",
        "    </tr>\n",
        "    <tr>\n",
        "      <th>3</th>\n",
        "      <td>  0</td>\n",
        "      <td> 100</td>\n",
        "      <td>  7</td>\n",
        "      <td>  92</td>\n",
        "      <td>   5</td>\n",
        "      <td>  68</td>\n",
        "      <td>  19</td>\n",
        "      <td>  45</td>\n",
        "      <td> 86</td>\n",
        "      <td> 34</td>\n",
        "      <td> 100</td>\n",
        "      <td> 45</td>\n",
        "      <td>  74</td>\n",
        "      <td> 23</td>\n",
        "      <td>  67</td>\n",
        "      <td>  0</td>\n",
        "      <td> 4</td>\n",
        "    </tr>\n",
        "    <tr>\n",
        "      <th>4</th>\n",
        "      <td>  0</td>\n",
        "      <td>  67</td>\n",
        "      <td> 49</td>\n",
        "      <td>  83</td>\n",
        "      <td> 100</td>\n",
        "      <td> 100</td>\n",
        "      <td>  81</td>\n",
        "      <td>  80</td>\n",
        "      <td> 60</td>\n",
        "      <td> 60</td>\n",
        "      <td>  40</td>\n",
        "      <td> 40</td>\n",
        "      <td>  33</td>\n",
        "      <td> 20</td>\n",
        "      <td>  47</td>\n",
        "      <td>  0</td>\n",
        "      <td> 1</td>\n",
        "    </tr>\n",
        "  </tbody>\n",
        "</table>\n",
        "<p>5 rows \u00d7 17 columns</p>\n",
        "</div>"
       ],
       "metadata": {},
       "output_type": "pyout",
       "prompt_number": 15,
       "text": [
        "   0    1   2    3    4    5    6    7   8   9    10  11   12  13   14  15  16\n",
        "0  47  100  27   81   57   37   26    0   0  23   56  53  100  90   40  98   8\n",
        "1   0   89  27  100   42   75   29   45  15  15   37   0   69   2  100   6   2\n",
        "2   0   57  31   68   72   90  100  100  76  75   50  51   28  25   16   0   1\n",
        "3   0  100   7   92    5   68   19   45  86  34  100  45   74  23   67   0   4\n",
        "4   0   67  49   83  100  100   81   80  60  60   40  40   33  20   47   0   1\n",
        "\n",
        "[5 rows x 17 columns]"
       ]
      }
     ],
     "prompt_number": 15
    },
    {
     "cell_type": "markdown",
     "metadata": {},
     "source": [
      "There are 16 features and 1 class. The features are numeric, while the class is nominal."
     ]
    },
    {
     "cell_type": "code",
     "collapsed": false,
     "input": [
      "data2.describe()"
     ],
     "language": "python",
     "metadata": {},
     "outputs": [
      {
       "html": [
        "<div style=\"max-height:1000px;max-width:1500px;overflow:auto;\">\n",
        "<table border=\"1\" class=\"dataframe\">\n",
        "  <thead>\n",
        "    <tr style=\"text-align: right;\">\n",
        "      <th></th>\n",
        "      <th>0</th>\n",
        "      <th>1</th>\n",
        "      <th>2</th>\n",
        "      <th>3</th>\n",
        "      <th>4</th>\n",
        "      <th>5</th>\n",
        "      <th>6</th>\n",
        "      <th>7</th>\n",
        "      <th>8</th>\n",
        "      <th>9</th>\n",
        "      <th>10</th>\n",
        "      <th>11</th>\n",
        "      <th>12</th>\n",
        "      <th>13</th>\n",
        "      <th>14</th>\n",
        "      <th>15</th>\n",
        "      <th>16</th>\n",
        "    </tr>\n",
        "  </thead>\n",
        "  <tbody>\n",
        "    <tr>\n",
        "      <th>count</th>\n",
        "      <td> 7494.000000</td>\n",
        "      <td> 7494.000000</td>\n",
        "      <td> 7494.000000</td>\n",
        "      <td> 7494.000000</td>\n",
        "      <td> 7494.000000</td>\n",
        "      <td> 7494.000000</td>\n",
        "      <td> 7494.000000</td>\n",
        "      <td> 7494.000000</td>\n",
        "      <td> 7494.000000</td>\n",
        "      <td> 7494.000000</td>\n",
        "      <td> 7494.000000</td>\n",
        "      <td> 7494.000000</td>\n",
        "      <td> 7494.000000</td>\n",
        "      <td> 7494.000000</td>\n",
        "      <td> 7494.000000</td>\n",
        "      <td> 7494.000000</td>\n",
        "      <td> 7494.000000</td>\n",
        "    </tr>\n",
        "    <tr>\n",
        "      <th>mean</th>\n",
        "      <td>   37.384307</td>\n",
        "      <td>   84.679343</td>\n",
        "      <td>   40.005604</td>\n",
        "      <td>   82.889512</td>\n",
        "      <td>   50.878303</td>\n",
        "      <td>   65.044436</td>\n",
        "      <td>   51.471844</td>\n",
        "      <td>   44.599680</td>\n",
        "      <td>   57.129971</td>\n",
        "      <td>   34.069122</td>\n",
        "      <td>   61.417401</td>\n",
        "      <td>   35.782092</td>\n",
        "      <td>   54.699760</td>\n",
        "      <td>   35.800774</td>\n",
        "      <td>   46.813718</td>\n",
        "      <td>   28.565386</td>\n",
        "      <td>    4.430878</td>\n",
        "    </tr>\n",
        "    <tr>\n",
        "      <th>std</th>\n",
        "      <td>   33.322024</td>\n",
        "      <td>   16.848420</td>\n",
        "      <td>   26.256025</td>\n",
        "      <td>   19.638582</td>\n",
        "      <td>   34.927201</td>\n",
        "      <td>   27.377341</td>\n",
        "      <td>   30.680075</td>\n",
        "      <td>   30.659478</td>\n",
        "      <td>   33.680340</td>\n",
        "      <td>   27.459989</td>\n",
        "      <td>   37.130762</td>\n",
        "      <td>   27.495836</td>\n",
        "      <td>   22.599781</td>\n",
        "      <td>   33.223611</td>\n",
        "      <td>   41.531794</td>\n",
        "      <td>   35.811094</td>\n",
        "      <td>    2.876981</td>\n",
        "    </tr>\n",
        "    <tr>\n",
        "      <th>min</th>\n",
        "      <td>    0.000000</td>\n",
        "      <td>    0.000000</td>\n",
        "      <td>    0.000000</td>\n",
        "      <td>    0.000000</td>\n",
        "      <td>    0.000000</td>\n",
        "      <td>    0.000000</td>\n",
        "      <td>    0.000000</td>\n",
        "      <td>    0.000000</td>\n",
        "      <td>    0.000000</td>\n",
        "      <td>    0.000000</td>\n",
        "      <td>    0.000000</td>\n",
        "      <td>    0.000000</td>\n",
        "      <td>    0.000000</td>\n",
        "      <td>    0.000000</td>\n",
        "      <td>    0.000000</td>\n",
        "      <td>    0.000000</td>\n",
        "      <td>    0.000000</td>\n",
        "    </tr>\n",
        "    <tr>\n",
        "      <th>25%</th>\n",
        "      <td>    5.000000</td>\n",
        "      <td>   76.000000</td>\n",
        "      <td>   20.000000</td>\n",
        "      <td>   70.000000</td>\n",
        "      <td>   17.000000</td>\n",
        "      <td>   48.000000</td>\n",
        "      <td>   28.000000</td>\n",
        "      <td>   22.000000</td>\n",
        "      <td>   30.000000</td>\n",
        "      <td>    7.000000</td>\n",
        "      <td>   25.000000</td>\n",
        "      <td>   12.000000</td>\n",
        "      <td>   41.000000</td>\n",
        "      <td>    7.000000</td>\n",
        "      <td>    0.000000</td>\n",
        "      <td>    0.000000</td>\n",
        "      <td>    2.000000</td>\n",
        "    </tr>\n",
        "    <tr>\n",
        "      <th>50%</th>\n",
        "      <td>   31.000000</td>\n",
        "      <td>   89.000000</td>\n",
        "      <td>   39.000000</td>\n",
        "      <td>   89.000000</td>\n",
        "      <td>   56.000000</td>\n",
        "      <td>   71.000000</td>\n",
        "      <td>   54.000000</td>\n",
        "      <td>   42.000000</td>\n",
        "      <td>   60.000000</td>\n",
        "      <td>   33.000000</td>\n",
        "      <td>   74.000000</td>\n",
        "      <td>   32.000000</td>\n",
        "      <td>   53.000000</td>\n",
        "      <td>   28.000000</td>\n",
        "      <td>   39.000000</td>\n",
        "      <td>    8.000000</td>\n",
        "      <td>    4.000000</td>\n",
        "    </tr>\n",
        "    <tr>\n",
        "      <th>75%</th>\n",
        "      <td>   61.000000</td>\n",
        "      <td>  100.000000</td>\n",
        "      <td>   58.000000</td>\n",
        "      <td>  100.000000</td>\n",
        "      <td>   81.000000</td>\n",
        "      <td>   86.000000</td>\n",
        "      <td>   75.000000</td>\n",
        "      <td>   65.000000</td>\n",
        "      <td>   88.000000</td>\n",
        "      <td>   55.000000</td>\n",
        "      <td>   98.000000</td>\n",
        "      <td>   57.000000</td>\n",
        "      <td>   69.000000</td>\n",
        "      <td>   48.000000</td>\n",
        "      <td>  100.000000</td>\n",
        "      <td>   51.000000</td>\n",
        "      <td>    7.000000</td>\n",
        "    </tr>\n",
        "    <tr>\n",
        "      <th>max</th>\n",
        "      <td>  100.000000</td>\n",
        "      <td>  100.000000</td>\n",
        "      <td>  100.000000</td>\n",
        "      <td>  100.000000</td>\n",
        "      <td>  100.000000</td>\n",
        "      <td>  100.000000</td>\n",
        "      <td>  100.000000</td>\n",
        "      <td>  100.000000</td>\n",
        "      <td>  100.000000</td>\n",
        "      <td>  100.000000</td>\n",
        "      <td>  100.000000</td>\n",
        "      <td>  100.000000</td>\n",
        "      <td>  100.000000</td>\n",
        "      <td>  100.000000</td>\n",
        "      <td>  100.000000</td>\n",
        "      <td>  100.000000</td>\n",
        "      <td>    9.000000</td>\n",
        "    </tr>\n",
        "  </tbody>\n",
        "</table>\n",
        "<p>8 rows \u00d7 17 columns</p>\n",
        "</div>"
       ],
       "metadata": {},
       "output_type": "pyout",
       "prompt_number": 16,
       "text": [
        "                0            1            2            3            4   \\\n",
        "count  7494.000000  7494.000000  7494.000000  7494.000000  7494.000000   \n",
        "mean     37.384307    84.679343    40.005604    82.889512    50.878303   \n",
        "std      33.322024    16.848420    26.256025    19.638582    34.927201   \n",
        "min       0.000000     0.000000     0.000000     0.000000     0.000000   \n",
        "25%       5.000000    76.000000    20.000000    70.000000    17.000000   \n",
        "50%      31.000000    89.000000    39.000000    89.000000    56.000000   \n",
        "75%      61.000000   100.000000    58.000000   100.000000    81.000000   \n",
        "max     100.000000   100.000000   100.000000   100.000000   100.000000   \n",
        "\n",
        "                5            6            7            8            9   \\\n",
        "count  7494.000000  7494.000000  7494.000000  7494.000000  7494.000000   \n",
        "mean     65.044436    51.471844    44.599680    57.129971    34.069122   \n",
        "std      27.377341    30.680075    30.659478    33.680340    27.459989   \n",
        "min       0.000000     0.000000     0.000000     0.000000     0.000000   \n",
        "25%      48.000000    28.000000    22.000000    30.000000     7.000000   \n",
        "50%      71.000000    54.000000    42.000000    60.000000    33.000000   \n",
        "75%      86.000000    75.000000    65.000000    88.000000    55.000000   \n",
        "max     100.000000   100.000000   100.000000   100.000000   100.000000   \n",
        "\n",
        "                10           11           12           13           14  \\\n",
        "count  7494.000000  7494.000000  7494.000000  7494.000000  7494.000000   \n",
        "mean     61.417401    35.782092    54.699760    35.800774    46.813718   \n",
        "std      37.130762    27.495836    22.599781    33.223611    41.531794   \n",
        "min       0.000000     0.000000     0.000000     0.000000     0.000000   \n",
        "25%      25.000000    12.000000    41.000000     7.000000     0.000000   \n",
        "50%      74.000000    32.000000    53.000000    28.000000    39.000000   \n",
        "75%      98.000000    57.000000    69.000000    48.000000   100.000000   \n",
        "max     100.000000   100.000000   100.000000   100.000000   100.000000   \n",
        "\n",
        "                15           16  \n",
        "count  7494.000000  7494.000000  \n",
        "mean     28.565386     4.430878  \n",
        "std      35.811094     2.876981  \n",
        "min       0.000000     0.000000  \n",
        "25%       0.000000     2.000000  \n",
        "50%       8.000000     4.000000  \n",
        "75%      51.000000     7.000000  \n",
        "max     100.000000     9.000000  \n",
        "\n",
        "[8 rows x 17 columns]"
       ]
      }
     ],
     "prompt_number": 16
    },
    {
     "cell_type": "code",
     "collapsed": false,
     "input": [
      "data2[data2.columns].var()"
     ],
     "language": "python",
     "metadata": {},
     "outputs": [
      {
       "metadata": {},
       "output_type": "pyout",
       "prompt_number": 18,
       "text": [
        "0     1110.357293\n",
        "1      283.869273\n",
        "2      689.378856\n",
        "3      385.673898\n",
        "4     1219.909384\n",
        "5      749.518778\n",
        "6      941.266990\n",
        "7      940.003609\n",
        "8     1134.365329\n",
        "9      754.051007\n",
        "10    1378.693497\n",
        "11     756.020974\n",
        "12     510.750095\n",
        "13    1103.808295\n",
        "14    1724.889891\n",
        "15    1282.434467\n",
        "16       8.277018\n",
        "dtype: float64"
       ]
      }
     ],
     "prompt_number": 18
    },
    {
     "cell_type": "code",
     "collapsed": false,
     "input": [
      "data2[data2.columns].max()-data2[data2.columns].min()"
     ],
     "language": "python",
     "metadata": {},
     "outputs": [
      {
       "metadata": {},
       "output_type": "pyout",
       "prompt_number": 19,
       "text": [
        "0     100\n",
        "1     100\n",
        "2     100\n",
        "3     100\n",
        "4     100\n",
        "5     100\n",
        "6     100\n",
        "7     100\n",
        "8     100\n",
        "9     100\n",
        "10    100\n",
        "11    100\n",
        "12    100\n",
        "13    100\n",
        "14    100\n",
        "15    100\n",
        "16      9\n",
        "dtype: int64"
       ]
      }
     ],
     "prompt_number": 19
    },
    {
     "cell_type": "heading",
     "level": 4,
     "metadata": {},
     "source": [
      "1.2  Data Visualization"
     ]
    },
    {
     "cell_type": "code",
     "collapsed": false,
     "input": [
      "fig = plt.figure(figsize=(9,5))\n",
      "ax = fig.add_subplot(111)\n",
      "npbox = ax.boxplot(data2.values)"
     ],
     "language": "python",
     "metadata": {},
     "outputs": [
      {
       "metadata": {},
       "output_type": "display_data",
       "png": "[encoded data removed]",
       "text": [
        "<matplotlib.figure.Figure at 0xb7e890c>"
       ]
      }
     ],
     "prompt_number": 20
    },
    {
     "cell_type": "code",
     "collapsed": false,
     "input": [
      "hist2 = data2.hist(figsize=(10,10))"
     ],
     "language": "python",
     "metadata": {},
     "outputs": [
      {
       "metadata": {},
       "output_type": "display_data",
       "png": "[encoded data removed]",
       "text": [
        "<matplotlib.figure.Figure at 0xbaee88c>"
       ]
      }
     ],
     "prompt_number": 21
    },
    {
     "cell_type": "code",
     "collapsed": false,
     "input": [
      "sample_list = []\n",
      "for i in range(5):\n",
      "    new_sampler = np.random.randint(0, len(data), len(data))\n",
      "    sample_with_replacement = data.take(new_sampler)\n",
      "    sample_list.append(sample_with_replacement)"
     ],
     "language": "python",
     "metadata": {},
     "outputs": [],
     "prompt_number": 22
    },
    {
     "cell_type": "code",
     "collapsed": false,
     "input": [
      "for i in range(len(sample_list)):\n",
      "    sample_list[i].boxplot(grid=False)"
     ],
     "language": "python",
     "metadata": {},
     "outputs": [
      {
       "metadata": {},
       "output_type": "display_data",
       "png": "[encoded data removed]",
       "text": [
        "<matplotlib.figure.Figure at 0xcb0a60c>"
       ]
      }
     ],
     "prompt_number": 23
    },
    {
     "cell_type": "heading",
     "level": 3,
     "metadata": {},
     "source": [
      "3 Conceptual Questions"
     ]
    },
    {
     "cell_type": "markdown",
     "metadata": {},
     "source": [
      "The histograms for petal length and petal width display multiple points of high frequency, wheras the histograms for sepal length and sepal width display distributions that reach their highest frequency at a particular point. More generally, the petal length and petal width histograms display bimodal distributions, whereas the sepal length and sepal width histograms display normal distributions. Given the petal width histogram, a value between 2.5-3.0 would be effective at segmented the distribution of petal widths, as the histogram displays a low frequency within this range.\n",
      "\n",
      "Based upon the boxplots generated for the Iris dataset, sepal length and petal width have significantly different medians, as there is no overlap between the ranges of these two boxplots. Strictly speaking, several other pairs of varibles can be considered to have signficantly different medians; sepal length and petal width simply have the greatest difference. Based solely upon the box plots, petal length appears to explain the greatest amount of the data, as it displays the greatest range -- the greatest variability -- among the features.\n",
      "\n",
      "Given the boxplots generated for the Digits dataset, we do observe outliers -- particularly for the second and fourth features (labeled 2 and 4, respectively). The histograms for these features display (right) skewed distributions, with a relatively higher frequency of large values and lower frequency of smaller values. Given these observations, the outliers for both features can be explained by mean values skewed to larger values, resulting in the smaller values in the distribution being considered outliers by the box plots."
     ]
    },
    {
     "cell_type": "heading",
     "level": 3,
     "metadata": {},
     "source": [
      "4 Graduate Student Portion"
     ]
    },
    {
     "cell_type": "code",
     "collapsed": false,
     "input": [
      "data.ix[:,0].hist(grid=False)\n",
      "for i in range(5):\n",
      "    sample_list[i].ix[:,0].hist(grid=False, alpha=0.5)"
     ],
     "language": "python",
     "metadata": {},
     "outputs": [
      {
       "metadata": {},
       "output_type": "display_data",
       "png": "[encoded data removed]",
       "text": [
        "<matplotlib.figure.Figure at 0xcec97ec>"
       ]
      }
     ],
     "prompt_number": 24
    },
    {
     "cell_type": "code",
     "collapsed": false,
     "input": [
      "data.ix[:,1].hist(grid=False)\n",
      "for i in range(5):\n",
      "    sample_list[i].ix[:,1].hist(grid=False, alpha=0.5)"
     ],
     "language": "python",
     "metadata": {},
     "outputs": [
      {
       "metadata": {},
       "output_type": "display_data",
       "png": "[encoded data removed]",
       "text": [
        "<matplotlib.figure.Figure at 0xbb9982c>"
       ]
      }
     ],
     "prompt_number": 25
    },
    {
     "cell_type": "code",
     "collapsed": false,
     "input": [
      "data.ix[:,2].hist(grid=False)\n",
      "for i in range(5):\n",
      "    sample_list[i].ix[:,2].hist(grid=False, alpha=0.5)"
     ],
     "language": "python",
     "metadata": {},
     "outputs": [
      {
       "metadata": {},
       "output_type": "display_data",
       "png": "[encoded data removed]",
       "text": [
        "<matplotlib.figure.Figure at 0xc60328c>"
       ]
      }
     ],
     "prompt_number": 26
    },
    {
     "cell_type": "code",
     "collapsed": false,
     "input": [
      "data.ix[:,3].hist(grid=False)\n",
      "for i in range(5):\n",
      "    sample_list[i].ix[:,3].hist(grid=False, alpha=0.5)"
     ],
     "language": "python",
     "metadata": {},
     "outputs": [
      {
       "metadata": {},
       "output_type": "display_data",
       "png": "[encoded data removed]",
       "text": [
        "<matplotlib.figure.Figure at 0xcb279ec>"
       ]
      }
     ],
     "prompt_number": 27
    },
    {
     "cell_type": "markdown",
     "metadata": {},
     "source": [
      "The 5 newly-generated datasets are quite similar to one another. The overlapping histograms displayed above (one for each of the 4 features) display little variation."
     ]
    },
    {
     "cell_type": "heading",
     "level": 3,
     "metadata": {},
     "source": [
      "GRADES"
     ]
    },
    {
     "cell_type": "markdown",
     "metadata": {},
     "source": [
      "The summary statistics and histograms for the student's grades on this assignment are shown below."
     ]
    },
    {
     "cell_type": "code",
     "collapsed": false,
     "input": [
      "grades_und = pd.read_csv('gu.txt', header=None)\n",
      "grades_gra = pd.read_csv('gg.txt', header=None)"
     ],
     "language": "python",
     "metadata": {},
     "outputs": [],
     "prompt_number": 63
    },
    {
     "cell_type": "code",
     "collapsed": false,
     "input": [
      "grades_und.ix[0,:].hist()\n",
      "grades_gra.ix[0,:].hist()"
     ],
     "language": "python",
     "metadata": {},
     "outputs": [
      {
       "metadata": {},
       "output_type": "pyout",
       "prompt_number": 64,
       "text": [
        "<matplotlib.axes.AxesSubplot at 0xe21556c>"
       ]
      },
      {
       "metadata": {},
       "output_type": "display_data",
       "png": "[encoded data removed]",
       "text": [
        "<matplotlib.figure.Figure at 0xe215fcc>"
       ]
      }
     ],
     "prompt_number": 64
    },
    {
     "cell_type": "code",
     "collapsed": false,
     "input": [
      "grades_und.ix[0,:].describe()"
     ],
     "language": "python",
     "metadata": {},
     "outputs": [
      {
       "metadata": {},
       "output_type": "pyout",
       "prompt_number": 65,
       "text": [
        "count    16.000000\n",
        "mean     57.187500\n",
        "std       7.525235\n",
        "min      42.000000\n",
        "25%      54.625000\n",
        "50%      57.750000\n",
        "75%      60.000000\n",
        "max      69.000000\n",
        "Name: 0, dtype: float64"
       ]
      }
     ],
     "prompt_number": 65
    },
    {
     "cell_type": "code",
     "collapsed": false,
     "input": [
      "grades_gra.ix[0,:].describe()"
     ],
     "language": "python",
     "metadata": {},
     "outputs": [
      {
       "metadata": {},
       "output_type": "pyout",
       "prompt_number": 66,
       "text": [
        "count     3.000000\n",
        "mean     76.333333\n",
        "std       2.081666\n",
        "min      74.000000\n",
        "25%      75.500000\n",
        "50%      77.000000\n",
        "75%      77.500000\n",
        "max      78.000000\n",
        "Name: 0, dtype: float64"
       ]
      }
     ],
     "prompt_number": 66
    }
   ],
   "metadata": {}
  }
 ]
}
